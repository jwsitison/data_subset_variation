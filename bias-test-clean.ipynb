{
 "cells": [
  {
   "cell_type": "code",
   "execution_count": 1,
   "id": "29f80d1b",
   "metadata": {},
   "outputs": [],
   "source": [
    "%matplotlib inline\n",
    "\n",
    "import numpy as np\n",
    "import matplotlib.pyplot as plt\n",
    "\n",
    "import gvar as gv"
   ]
  },
  {
   "cell_type": "code",
   "execution_count": 2,
   "id": "201d10ce",
   "metadata": {},
   "outputs": [],
   "source": [
    "# Helper function for plotting gvars\n",
    "\n",
    "def plot_gvcorr(gc, color='blue', log_scale=False, offset=0.0, x=None, xr_offset=True, \n",
    "    label=None, marker='o', markersize=8, capthick=0, open_symbol=False, fill=False, linestyle=' ', \n",
    "    eb_linestyle=' ', figax=None, xerr=False):\n",
    "\n",
    "    if figax is None:\n",
    "        fig = plt.figure(figsize=(8,6))\n",
    "        ax = plt.subplot(111)\n",
    "    else:\n",
    "        # Unpack figure, current axis\n",
    "        fig, ax = figax\n",
    "\n",
    "    if x is None:\n",
    "        x = np.arange(0,len(gc))\n",
    "\n",
    "    if fill:\n",
    "        y = np.asarray([gv.mean(g) for g in gc])\n",
    "        yerr = np.asarray([gv.sdev(g) for g in gc])\n",
    "        ax.plot(x+offset, y, color=color, label=label)\n",
    "        ax.fill_between(x+offset, y-yerr, y+yerr, alpha=0.5, edgecolor='k', facecolor=color)\n",
    "    else:\n",
    "        eb_args = {\n",
    "            'x': x + offset,\n",
    "            'y': [ gv.mean(g) for g in gc],\n",
    "            'yerr': [ gv.sdev(g) for g in gc],\n",
    "            'marker': marker,\n",
    "            'markersize': markersize,\n",
    "            'capthick': capthick,\n",
    "            'linestyle': linestyle,\n",
    "            'color': color,\n",
    "            'label': label,\n",
    "        }\n",
    "        \n",
    "        if (xerr):\n",
    "            eb_args['x'] = [ gv.mean(g) for g in (x + offset) ]\n",
    "            eb_args['xerr'] = [ gv.sdev(g) for g in (x + offset) ]\n",
    "        if (open_symbol):\n",
    "            eb_args['mfc'] = 'None'\n",
    "            eb_args['mec'] = color\n",
    "            eb_args['mew'] = 1\n",
    "                        \n",
    "        eb = ax.errorbar(**eb_args)\n",
    " \n",
    "        if eb_linestyle != ' ':\n",
    "            eb[-1][0].set_linestyle(eb_linestyle)\n",
    "\n",
    "    if (log_scale):\n",
    "        ax.yscale('symlog')\n",
    "    \n",
    "    if (xr_offset):\n",
    "        ax.set_xlim(x[0]-0.2, x[-1]+0.2)\n",
    "\n",
    "    return fig, ax\n"
   ]
  },
  {
   "cell_type": "markdown",
   "id": "54754957",
   "metadata": {},
   "source": [
    "__Test case:__ we will adopt a multinormal distribution with data size $d=3$.  We compute the inverse of the asymptotic (true) covariance matrix for use in estimators below; computing the inverse of the sample covariance can result in additional bias when it is not diagonal. "
   ]
  },
  {
   "cell_type": "code",
   "execution_count": 8,
   "id": "40c05e13",
   "metadata": {},
   "outputs": [],
   "source": [
    "test_mu = np.array([0.6, 0.9, 1.2])\n",
    "test_C = np.array([\n",
    "    [1.0, 0.4, 0.1],\n",
    "    [0.4, 1.0, 0.0],\n",
    "    [0.1, 0.0, 2.0],\n",
    "])\n",
    "\n",
    "inv_C = np.linalg.inv(test_C)"
   ]
  },
  {
   "cell_type": "markdown",
   "id": "2b4c28c3",
   "metadata": {},
   "source": [
    "The code below will compute K-L divergence terms in a Monte Carlo loop.  We draw samples of size $N$, but repeat the process $M$ times in order to simulate expectation values over the true distribution ${\\rm pr}_T(z)$ specified in the cell above.  (This can be thought of as simple Monte Carlo evaluation of the integral $E_z[...] = \\int dz\\ {\\rm pr}_T(z) [...]$.)"
   ]
  },
  {
   "cell_type": "code",
   "execution_count": 14,
   "id": "ccf99ee4",
   "metadata": {},
   "outputs": [],
   "source": [
    "def get_sample(N):\n",
    "    return np.random.multivariate_normal(test_mu, test_C, N)\n",
    "\n",
    "def resample(M, N, statistic):\n",
    "    all_results = []\n",
    "    \n",
    "    for _ in range(M):\n",
    "        ys = get_sample(N)\n",
    "        z = get_sample(1).flatten()\n",
    "        all_results.append(statistic(ys, z))\n",
    "    \n",
    "    return all_results\n",
    "\n",
    "def chi2_perfect(ys, z):\n",
    "    ybar = np.mean(ys, axis=0)\n",
    "    Cbar = np.cov(ys.T)\n",
    "    \n",
    "    delta = ybar - z\n",
    "    \n",
    "    return -0.5 * delta.T @ inv_C @ delta\n",
    "    \n",
    "def KL_true(ys, z):\n",
    "    delta = test_mu - z\n",
    "    return -0.5 * delta.T @ inv_C @ delta"
   ]
  },
  {
   "cell_type": "markdown",
   "id": "1100904a",
   "metadata": {},
   "source": [
    "First, let's verify the result for the first term in the K-L divergence,\n",
    "$$\n",
    "E_z[\\log {\\rm pr}_T(z)] = -\\frac{d}{2} \\log (2\\pi) - \\frac{1}{2} \\log \\det \\Sigma_T - \\frac{d}{2}\n",
    "$$\n",
    "\n",
    "The first two factors come from normalization so we can just skip them completely - the numerical answer we get from our simulation should be $-d/2 = -3/2$."
   ]
  },
  {
   "cell_type": "code",
   "execution_count": 29,
   "id": "4f8a2101",
   "metadata": {},
   "outputs": [],
   "source": [
    "def compute_KL_sample(M, N):\n",
    "    all_KL = resample(M, N, KL_true)\n",
    "    \n",
    "    return gv.gvar(np.mean(all_KL), np.std(all_KL) / np.sqrt(M))"
   ]
  },
  {
   "cell_type": "code",
   "execution_count": 30,
   "id": "1c65c93e",
   "metadata": {},
   "outputs": [],
   "source": [
    "all_KL = []\n",
    "Ms = np.array([100, 200, 400, 500, 800, 1000, 2000, 5000])\n",
    "for M in Ms:\n",
    "    all_KL.append((compute_KL_sample(M, 1000)))\n"
   ]
  },
  {
   "cell_type": "code",
   "execution_count": 31,
   "id": "5eb91641",
   "metadata": {},
   "outputs": [
    {
     "data": {
      "text/plain": [
       "Text(0.5, 0, '$\\\\log (1/M)$')"
      ]
     },
     "execution_count": 31,
     "metadata": {},
     "output_type": "execute_result"
    },
    {
     "data": {
      "image/png": "[encoded data removed]",
      "text/plain": [
       "<Figure size 800x600 with 1 Axes>"
      ]
     },
     "metadata": {},
     "output_type": "display_data"
    }
   ],
   "source": [
    "plot_gvcorr(all_KL, x=np.log(1/Ms), xr_offset=False)\n",
    "plt.axhline(-len(test_mu)/2, ls='--', color='k')\n",
    "\n",
    "plt.xlabel('$\\log (1/M)$')"
   ]
  },
  {
   "cell_type": "markdown",
   "id": "ef2a5343",
   "metadata": {},
   "source": [
    "Next, the second term in the K-L divergence:\n",
    "\n",
    "$$\n",
    "E_z[\\log {\\rm pr}(z | M_\\mu, \\mathbf{a}^\\star)] \\simeq -\\frac{1}{2N} {\\rm AIC}_\\mu \\\\\n",
    "= -\\frac{1}{2N} \\left[ \\hat{\\chi}^2 + 2k + (N-1)d \\right]\n",
    "$$\n",
    "For the perfect model we have $\\hat{\\chi}^2 = 0$, and the number of parameters is $k = d$, so:\n",
    "\n",
    "$$\n",
    "E_z[\\log {\\rm pr}(z | M_\\mu, \\mathbf{a}^\\star)]^{\\rm perf} \\simeq -\\frac{(N+1)d}{2N} = -\\frac{d}{2} - \\frac{d}{2N}.\n",
    "$$\n",
    "\n",
    "Thus, we predict that if we calculate $E_z[\\log {\\rm pr}(z | M_\\mu, \\mathbf{a}^\\star)]^{\\rm perf}$ directly by Monte Carlo, we should find $-3/2$ asymptotically, but with a small correction that depends on $N$.  Below we will set $N = 25$, which gives an expected bias correction of $-3/50 = -0.06$."
   ]
  },
  {
   "cell_type": "code",
   "execution_count": 22,
   "id": "50ad9269",
   "metadata": {},
   "outputs": [],
   "source": [
    "def compute_chi2P_sample(M, N):\n",
    "    all_chi2 = resample(M, N, chi2_perfect)\n",
    "    \n",
    "    return gv.gvar(np.mean(all_chi2), np.std(all_chi2) / np.sqrt(M))"
   ]
  },
  {
   "cell_type": "code",
   "execution_count": 23,
   "id": "54ae8d28",
   "metadata": {},
   "outputs": [],
   "source": [
    "all_chi2 = []\n",
    "Ns = 25\n",
    "Ms = np.array([100, 200, 400, 500, 800, 1000, 2000, 5000, 10000])\n",
    "for M in Ms:\n",
    "    all_chi2.append((compute_chi2P_sample(M, Ns)))\n",
    "    "
   ]
  },
  {
   "cell_type": "code",
   "execution_count": 27,
   "id": "c91e929c",
   "metadata": {},
   "outputs": [
    {
     "data": {
      "text/plain": [
       "Text(0.5, 0, '$\\\\log (1/M)$')"
      ]
     },
     "execution_count": 27,
     "metadata": {},
     "output_type": "execute_result"
    },
    {
     "data": {
      "image/png": "[encoded data removed]",
      "text/plain": [
       "<Figure size 800x600 with 1 Axes>"
      ]
     },
     "metadata": {},
     "output_type": "display_data"
    }
   ],
   "source": [
    "plot_gvcorr(all_chi2, x=np.log(1/Ms), xr_offset=False)\n",
    "plt.axhline(-len(test_mu)/2, ls='--', color='k')    # Asymptotic N --> infinity result\n",
    "plt.axhline(-len(test_mu)/2 - len(test_mu)/(2*Ns))  # Matching the AIC_perfect estimator?\n",
    "\n",
    "plt.xlabel('$\\log (1/M)$')"
   ]
  },
  {
   "cell_type": "markdown",
   "id": "405c03e6",
   "metadata": {},
   "source": [
    "We see excellent agreement as $M \\rightarrow \\infty$ with the predicted, bias-corrected result!  This confirms that the standard $\\chi^2 + 2k$ AIC formula with $k \\rightarrow d_{\\rm C}$ gives the right answer including the bias correction."
   ]
  }
 ],
 "metadata": {
  "kernelspec": {
   "display_name": "Python 3 (ipykernel)",
   "language": "python",
   "name": "python3"
  },
  "language_info": {
   "codemirror_mode": {
    "name": "ipython",
    "version": 3
   },
   "file_extension": ".py",
   "mimetype": "text/x-python",
   "name": "python",
   "nbconvert_exporter": "python",
   "pygments_lexer": "ipython3",
   "version": "3.9.13"
  }
 },
 "nbformat": 4,
 "nbformat_minor": 5
}
